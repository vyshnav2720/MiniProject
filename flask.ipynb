{
  "nbformat": 4,
  "nbformat_minor": 0,
  "metadata": {
    "colab": {
      "provenance": [],
      "include_colab_link": true
    },
    "kernelspec": {
      "name": "python3",
      "display_name": "Python 3"
    },
    "language_info": {
      "name": "python"
    }
  },
  "cells": [
    {
      "cell_type": "markdown",
      "metadata": {
        "id": "view-in-github",
        "colab_type": "text"
      },
      "source": [
        "<a href=\"https://colab.research.google.com/github/vyshnvv/MiniProject/blob/master/flask.ipynb\" target=\"_parent\"><img src=\"https://colab.research.google.com/assets/colab-badge.svg\" alt=\"Open In Colab\"/></a>"
      ]
    },
    {
      "cell_type": "code",
      "execution_count": 4,
      "metadata": {
        "colab": {
          "base_uri": "https://localhost:8080/"
        },
        "id": "kxDoCniYf8O7",
        "outputId": "8c39782a-38ab-44f0-f292-c2d0b663b35c"
      },
      "outputs": [
        {
          "output_type": "stream",
          "name": "stdout",
          "text": [
            "Collecting pyngrok\n",
            "  Downloading pyngrok-7.1.6-py3-none-any.whl (22 kB)\n",
            "Requirement already satisfied: PyYAML>=5.1 in /usr/local/lib/python3.10/dist-packages (from pyngrok) (6.0.1)\n",
            "Installing collected packages: pyngrok\n",
            "Successfully installed pyngrok-7.1.6\n"
          ]
        }
      ],
      "source": [
        "!pip install pyngrok"
      ]
    },
    {
      "cell_type": "code",
      "source": [
        "from pyngrok import ngrok"
      ],
      "metadata": {
        "id": "eMuQVH8DgATn"
      },
      "execution_count": 5,
      "outputs": []
    },
    {
      "cell_type": "code",
      "source": [
        "import tensorflow as tf\n",
        "import numpy as np"
      ],
      "metadata": {
        "id": "VhZjtvjXgD0W"
      },
      "execution_count": 6,
      "outputs": []
    },
    {
      "cell_type": "code",
      "source": [
        "from google.colab import auth\n",
        "from google.colab import drive\n",
        "drive.mount('/content/drive')"
      ],
      "metadata": {
        "colab": {
          "base_uri": "https://localhost:8080/"
        },
        "id": "YeI7UyBPgG3J",
        "outputId": "c11a748c-ca96-4e4d-9489-c45b1752aa8e"
      },
      "execution_count": null,
      "outputs": [
        {
          "output_type": "stream",
          "name": "stdout",
          "text": [
            "Mounted at /content/drive\n"
          ]
        }
      ]
    },
    {
      "cell_type": "code",
      "source": [
        "from google.colab import drive\n",
        "drive.mount('/content/drive')"
      ],
      "metadata": {
        "colab": {
          "base_uri": "https://localhost:8080/"
        },
        "id": "o96akK2-m8el",
        "outputId": "e82db8db-f154-4099-f11e-f0a78d454f04"
      },
      "execution_count": null,
      "outputs": [
        {
          "output_type": "stream",
          "name": "stdout",
          "text": [
            "Drive already mounted at /content/drive; to attempt to forcibly remount, call drive.mount(\"/content/drive\", force_remount=True).\n"
          ]
        }
      ]
    },
    {
      "cell_type": "code",
      "source": [
        "def predict_image(image_path):\n",
        "\n",
        "    model = tf.keras.models.load_model('/content/drive/My Drive/MODEL/leaf-cnn.h5')\n",
        "\n",
        "    new_img = tf.keras.preprocessing.image.load_img(image_path, target_size=(224,224))\n",
        "    img = tf.keras.preprocessing.image.img_to_array(new_img)\n",
        "    img = np.expand_dims(img, axis=0)\n",
        "    img = img/255.0\n",
        "\n",
        "    # Print class indices dictionary\n",
        "    #print(\"Class indices:\", train_data.class_indices)\n",
        "\n",
        "    categories = ['Apple___Apple_scab', 'Apple___Black_rot', 'Apple___Cedar_apple_rust', 'Apple___healthy', 'Blueberry___healthy', 'Cherry_(including_sour)___healthy', 'Cherry_(including_sour)___Powdery_mildew', 'Corn_(maize)___Cercospora_leaf_spot Gray_leaf_spot', 'Corn_(maize)___Common_rust_', 'Corn_(maize)___healthy', 'Corn_(maize)___Northern_Leaf_Blight', 'Grape___Black_rot', 'Grape___Esca_(Black_Measles)', 'Grape___healthy', 'Grape___Leaf_blight_(Isariopsis_Leaf_Spot)', 'Orange___Haunglongbing_(Citrus_greening)', 'Peach___Bacterial_spot', 'Peach___healthy', 'Pepper_bell___Bacterial_spot', 'Pepper_bell___healthy', 'Potato___Early_blight', 'Potato___healthy', 'Potato___Late_blight', 'Raspberry___healthy', 'Soybean___healthy', 'Squash___Powdery_mildew', 'Strawberry___healthy', 'Strawberry___Leaf_scorch', 'Tomato___Bacterial_spot', 'Tomato___Early_blight', 'Tomato___healthy', 'Tomato___Late_blight', 'Tomato___Leaf_Mold', 'Tomato___Septoria_leaf_spot', 'Tomato___Spider_mites Two-spotted_spider_mite', 'Tomato___Target_Spot', 'Tomato___Tomato_mosaic_virus', 'Tomato___Tomato_Yellow_Leaf_Curl_Virus']\n",
        "    prediction = model.predict(img)\n",
        "    try:\n",
        "        predicted_class = categories[np.argmax(prediction)]\n",
        "        return predicted_class\n",
        "    except KeyError as e:\n",
        "        print(\"Error:\", e)\n",
        "        return \"Unknown\""
      ],
      "metadata": {
        "id": "co3QlAi7gHXt"
      },
      "execution_count": 7,
      "outputs": []
    },
    {
      "cell_type": "code",
      "source": [],
      "metadata": {
        "id": "11TLUXtlmfFM"
      },
      "execution_count": null,
      "outputs": []
    },
    {
      "cell_type": "code",
      "source": [
        "from flask import Flask, render_template, request, redirect, url_for\n",
        "from tensorflow.keras.models import load_model\n",
        "import tensorflow as tf\n",
        "from tensorflow.keras.preprocessing import image\n",
        "import io\n",
        "from PIL import Image\n",
        "import os\n",
        "\n",
        "app = Flask(__name__,template_folder='/content/static/',static_folder='/content/static/')\n",
        "ngrok.set_auth_token('2flSkAhVl9mXzEOfsTr4k4j1EJh_tY7dqfHHnP6gG4M8tM3U')\n",
        "public_url = ngrok.connect(5000).public_url\n",
        "\n",
        "\n",
        "app.config['UPLOAD_FOLDER'] = '/content/uploads'  # Assuming uploads folder is in Colab\n",
        "\n",
        "# Function to handle file upload and prediction\n",
        "def upload_and_predict():\n",
        "    # Get uploaded image file\n",
        "    uploaded_file = request.files['image']\n",
        "\n",
        "    # Check if a file was uploaded\n",
        "    if uploaded_file.filename != '':\n",
        "        # Save the file\n",
        "        if uploaded_file:\n",
        "            uploaded_file.save(os.path.join(app.config['UPLOAD_FOLDER'], uploaded_file.filename))\n",
        "\n",
        "            # Load the image using PIL (adjust if using another library)\n",
        "\n",
        "\n",
        "            # Call your prediction function and get the result\n",
        "            image_name = \"/content/uploads/\" + uploaded_file.filename\n",
        "\n",
        "\n",
        "            prediction = predict_image(image_name)  # Replace with your function call\n",
        "\n",
        "            # Clear the uploaded file (optional)\n",
        "            os.remove(os.path.join(app.config['UPLOAD_FOLDER'], uploaded_file.filename))\n",
        "\n",
        "            return render_template('result.html', prediction=prediction)\n",
        "    else:\n",
        "        return 'No file uploaded'\n",
        "\n",
        "# Routes\n",
        "@app.route('/', methods=['GET'])\n",
        "def index():\n",
        "    if request.method == 'GET':\n",
        "        return render_template('index.html')\n",
        "\n",
        "@app.route('/diagnosis.html', methods=['GET'])\n",
        "def diagnosis():\n",
        "    if request.method == 'GET':\n",
        "        return render_template('diagnosis.html')\n",
        "\n",
        "\n",
        "\n",
        "@app.route('/diagnosis.html', methods=['POST'])\n",
        "def upload_image():\n",
        "    return upload_and_predict()\n",
        "\n",
        "\n",
        "\n",
        "\n",
        "\n",
        "print(public_url)\n",
        "app.run(port=5000)"
      ],
      "metadata": {
        "colab": {
          "base_uri": "https://localhost:8080/"
        },
        "id": "sCeuvFKWgKHw",
        "outputId": "553c7d21-d02a-4f36-93e4-e1484a3b446b"
      },
      "execution_count": 11,
      "outputs": [
        {
          "output_type": "stream",
          "name": "stdout",
          "text": [
            "https://e3b3-35-231-93-4.ngrok-free.app\n",
            " * Serving Flask app '__main__'\n",
            " * Debug mode: off\n"
          ]
        },
        {
          "output_type": "stream",
          "name": "stderr",
          "text": [
            "INFO:werkzeug:\u001b[31m\u001b[1mWARNING: This is a development server. Do not use it in a production deployment. Use a production WSGI server instead.\u001b[0m\n",
            " * Running on http://127.0.0.1:5000\n",
            "INFO:werkzeug:\u001b[33mPress CTRL+C to quit\u001b[0m\n",
            "INFO:werkzeug:127.0.0.1 - - [30/Apr/2024 17:00:16] \"GET / HTTP/1.1\" 200 -\n",
            "INFO:werkzeug:127.0.0.1 - - [30/Apr/2024 17:00:17] \"GET /static/images/roatating-text.svg HTTP/1.1\" 200 -\n",
            "INFO:werkzeug:127.0.0.1 - - [30/Apr/2024 17:00:17] \"GET /static/images/LeafLensLogo.svg HTTP/1.1\" 200 -\n",
            "INFO:werkzeug:127.0.0.1 - - [30/Apr/2024 17:00:17] \"GET /static/images/HeroLeafImage.png HTTP/1.1\" 200 -\n",
            "INFO:werkzeug:127.0.0.1 - - [30/Apr/2024 17:00:17] \"GET /static/app/js/script.js HTTP/1.1\" 200 -\n",
            "INFO:werkzeug:127.0.0.1 - - [30/Apr/2024 17:00:17] \"GET /static/images/hero_doodle1.png HTTP/1.1\" 200 -\n",
            "INFO:werkzeug:127.0.0.1 - - [30/Apr/2024 17:00:17] \"GET /static/images/hero_doodle2.png HTTP/1.1\" 200 -\n",
            "INFO:werkzeug:127.0.0.1 - - [30/Apr/2024 17:00:17] \"GET /static/app/scss/style.css HTTP/1.1\" 200 -\n",
            "INFO:werkzeug:127.0.0.1 - - [30/Apr/2024 17:00:17] \"GET /static/app/js/head_menu_func.js HTTP/1.1\" 200 -\n",
            "INFO:werkzeug:127.0.0.1 - - [30/Apr/2024 17:00:18] \"\u001b[33mGET /images/noise.png HTTP/1.1\u001b[0m\" 404 -\n",
            "INFO:werkzeug:127.0.0.1 - - [30/Apr/2024 17:00:19] \"\u001b[33mGET /favicon.ico HTTP/1.1\u001b[0m\" 404 -\n",
            "INFO:werkzeug:127.0.0.1 - - [30/Apr/2024 17:00:39] \"GET /diagnosis.html HTTP/1.1\" 200 -\n",
            "INFO:werkzeug:127.0.0.1 - - [30/Apr/2024 17:00:40] \"GET /static/images/bxs-cloud-upload.svg HTTP/1.1\" 200 -\n",
            "INFO:werkzeug:127.0.0.1 - - [30/Apr/2024 17:00:40] \"\u001b[36mGET /static/images/LeafLensLogo.svg HTTP/1.1\u001b[0m\" 304 -\n",
            "INFO:werkzeug:127.0.0.1 - - [30/Apr/2024 17:00:40] \"\u001b[36mGET /static/app/js/head_menu_func.js HTTP/1.1\u001b[0m\" 304 -\n",
            "INFO:werkzeug:127.0.0.1 - - [30/Apr/2024 17:00:40] \"\u001b[36mGET /static/app/scss/style.css HTTP/1.1\u001b[0m\" 304 -\n",
            "ERROR:__main__:Exception on /diagnosis.html [POST]\n",
            "Traceback (most recent call last):\n",
            "  File \"/usr/local/lib/python3.10/dist-packages/flask/app.py\", line 2529, in wsgi_app\n",
            "    response = self.full_dispatch_request()\n",
            "  File \"/usr/local/lib/python3.10/dist-packages/flask/app.py\", line 1825, in full_dispatch_request\n",
            "    rv = self.handle_user_exception(e)\n",
            "  File \"/usr/local/lib/python3.10/dist-packages/flask/app.py\", line 1823, in full_dispatch_request\n",
            "    rv = self.dispatch_request()\n",
            "  File \"/usr/local/lib/python3.10/dist-packages/flask/app.py\", line 1799, in dispatch_request\n",
            "    return self.ensure_sync(self.view_functions[rule.endpoint])(**view_args)\n",
            "  File \"<ipython-input-11-b2aed55a5bb1>\", line 58, in upload_image\n",
            "    return upload_and_predict()\n",
            "  File \"<ipython-input-11-b2aed55a5bb1>\", line 25, in upload_and_predict\n",
            "    uploaded_file.save(os.path.join(app.config['UPLOAD_FOLDER'], uploaded_file.filename))\n",
            "  File \"/usr/local/lib/python3.10/dist-packages/werkzeug/datastructures/file_storage.py\", line 125, in save\n",
            "    dst = open(dst, \"wb\")\n",
            "FileNotFoundError: [Errno 2] No such file or directory: '/content/uploads/leaf_image.jpeg'\n",
            "INFO:werkzeug:127.0.0.1 - - [30/Apr/2024 17:00:50] \"\u001b[35m\u001b[1mPOST /diagnosis.html HTTP/1.1\u001b[0m\" 500 -\n",
            "WARNING:pyngrok.process.ngrok:t=2024-04-30T18:14:56+0000 lvl=warn msg=\"Stopping forwarder\" name=http-5000-ccc95be8-5a7c-4146-9f19-094a737bdcee acceptErr=\"failed to accept connection: Listener closed\"\n"
          ]
        }
      ]
    },
    {
      "cell_type": "code",
      "source": [
        "/content/drive/MyDrive/project_assets/style.css"
      ],
      "metadata": {
        "id": "MyAwvI9WlsfH"
      },
      "execution_count": null,
      "outputs": []
    }
  ]
}